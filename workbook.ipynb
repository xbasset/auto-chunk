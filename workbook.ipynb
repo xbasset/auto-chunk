{
 "cells": [
  {
   "cell_type": "code",
   "execution_count": 1,
   "metadata": {},
   "outputs": [],
   "source": [
    "import openai\n",
    "\n",
    "\n",
    "import os\n",
    "\n",
    "openai.api_key = os.getenv(\"OPENAI_API_KEY\")\n",
    "\n"
   ]
  },
  {
   "cell_type": "markdown",
   "metadata": {},
   "source": [
    "## Get some RFC data\n",
    "\n",
    "Took one from 2023 that's not included in the training data"
   ]
  },
  {
   "cell_type": "code",
   "execution_count": 4,
   "metadata": {},
   "outputs": [
    {
     "name": "stdout",
     "output_type": "stream",
     "text": [
      "Number of words in text file : 14664\n"
     ]
    }
   ],
   "source": [
    "# read the RFC file that's not in the\n",
    "\n",
    "rfc_file = 'ietf.org_rfc_rfc9340.txt'\n",
    "\n",
    "with open(rfc_file, 'r') as file:\n",
    "    data = file.read().replace('\\n', '')\n",
    "\n",
    "# count words\n",
    "\n",
    "words = data.split()\n",
    "print('Number of words in text file :', len(words))\n",
    "\n"
   ]
  },
  {
   "cell_type": "markdown",
   "metadata": {},
   "source": [
    "## Naive chunking\n",
    "\n",
    "Each chunk is 100 lines of RFC doc"
   ]
  },
  {
   "cell_type": "code",
   "execution_count": 5,
   "metadata": {},
   "outputs": [
    {
     "name": "stdout",
     "output_type": "stream",
     "text": [
      "\n",
      "\n",
      "\n",
      "\n",
      "Internet Research Task Force (IRTF)                         W. Kozlowski\n",
      "Request for Comments: \n"
     ]
    }
   ],
   "source": [
    "# Create an array of document with each element containing 100 lines\n",
    "\n",
    "docs = []\n",
    "\n",
    "with open(rfc_file, 'r') as file:\n",
    "    doc = []\n",
    "    for line in file:\n",
    "        doc.append(line.strip())\n",
    "        if len(doc) == 100:\n",
    "            docs.append(doc)\n",
    "            doc = []\n",
    "    if len(doc) > 0:\n",
    "        docs.append(doc)\n",
    "\n",
    "len(docs)\n",
    "\n",
    "# for each doc, join the lines to create a single string adding a \\n between each line\n",
    "\n",
    "for i in range(len(docs)):\n",
    "    docs[i] = '\\n'.join(docs[i])\n",
    "    \n",
    "\n",
    "# print the first lines of the first doc\n",
    "\n",
    "print(docs[0][:100])"
   ]
  },
  {
   "cell_type": "code",
   "execution_count": 6,
   "metadata": {},
   "outputs": [
    {
     "name": "stdout",
     "output_type": "stream",
     "text": [
      "[{'source': 0}, {'source': 1}, {'source': 2}, {'source': 3}, {'source': 4}, {'source': 5}, {'source': 6}, {'source': 7}, {'source': 8}, {'source': 9}]\n"
     ]
    }
   ],
   "source": [
    "# create a metadata in the form of a dictionary: {\"source\": \"<docs_id>\"}\n",
    "\n",
    "metadata = []\n",
    "for i in range(len(docs)):\n",
    "    metadata.append({\"source\": i})\n",
    "\n",
    "print(metadata[0:10])"
   ]
  },
  {
   "cell_type": "code",
   "execution_count": 7,
   "metadata": {},
   "outputs": [
    {
     "name": "stdout",
     "output_type": "stream",
     "text": [
      "['0', '1', '2', '3', '4', '5', '6', '7', '8', '9']\n"
     ]
    }
   ],
   "source": [
    "# create a list of each ids as an array\n",
    "\n",
    "ids = []\n",
    "for i in range(len(docs)):\n",
    "    ids.append(str(i))\n",
    "\n",
    "# print the 10 first ids\n",
    "print(ids[:10])"
   ]
  },
  {
   "cell_type": "markdown",
   "metadata": {},
   "source": [
    "## Basic Storing of RFCs\n",
    "\n",
    "Persistent ChromaDB"
   ]
  },
  {
   "cell_type": "code",
   "execution_count": 8,
   "metadata": {},
   "outputs": [],
   "source": [
    "import chromadb\n",
    "from chromadb.config import Settings\n",
    "\n",
    "client = chromadb.Client(Settings(\n",
    "    chroma_db_impl=\"duckdb+parquet\",\n",
    "    persist_directory=\"./chromadb/\"\n",
    "))"
   ]
  },
  {
   "cell_type": "code",
   "execution_count": 9,
   "metadata": {},
   "outputs": [],
   "source": [
    "collection = client.create_collection(name=\"naive_rfc_chunking\")"
   ]
  },
  {
   "cell_type": "code",
   "execution_count": 10,
   "metadata": {},
   "outputs": [],
   "source": [
    "collection.add(\n",
    "    documents=docs,\n",
    "    metadatas=metadata,\n",
    "    ids=ids\n",
    ")"
   ]
  },
  {
   "cell_type": "code",
   "execution_count": 12,
   "metadata": {},
   "outputs": [
    {
     "name": "stdout",
     "output_type": "stream",
     "text": [
      "[[0.7572208046913147,\n",
      "  0.8892778754234314,\n",
      "  0.9584118127822876,\n",
      "  0.9923790097236633,\n",
      "  0.9929220080375671,\n",
      "  1.008371114730835,\n",
      "  1.0142896175384521,\n",
      "  1.0535603761672974,\n",
      "  1.0790119171142578,\n",
      "  1.0914597511291504]]\n",
      "[['0', '4', '10', '12', '1', '2', '13', '16', '5', '20']]\n"
     ]
    }
   ],
   "source": [
    "from pprint import pprint\n",
    "\n",
    "results = collection.query(\n",
    "    query_texts=[\"What is a quantum network stack?\"],\n",
    "    n_results=10\n",
    ")\n",
    "\n",
    "pprint(results[\"distances\"])\n",
    "pprint(results[\"ids\"])"
   ]
  },
  {
   "cell_type": "code",
   "execution_count": 15,
   "metadata": {},
   "outputs": [
    {
     "name": "stdout",
     "output_type": "stream",
     "text": [
      "\n",
      "\n",
      "\n",
      "\n",
      "Internet Research Task Force (IRTF)                         W. Kozlowski\n",
      "Request for Comments: 9340                                     S. Wehner\n",
      "Category: Informational                                           QuTech\n",
      "ISSN: 2070-1721                                             R. Van Meter\n",
      "Keio University\n",
      "B. Rijsman\n",
      "Individual\n",
      "A. S. Cacciapuoti\n",
      "M. Caleffi\n",
      "University of Naples Federico II\n",
      "S. Nagayama\n",
      "Mercari, Inc.\n",
      "March 2023\n",
      "\n",
      "\n",
      "Architectural Principles for a Quantum Internet\n",
      "\n",
      "Abstract\n",
      "\n",
      "The vision of a quantum internet is to enhance existing Internet\n",
      "technology by enabling quantum communication between any two points\n",
      "on Earth.  To achieve this goal, a quantum network stack should be\n",
      "built from the ground up to account for the fundamentally new\n",
      "properties of quantum entanglement.  The first quantum entanglement\n",
      "networks have been realised, but there is no practical proposal for\n",
      "how to organise, utilise, and manage such networks.  In this\n",
      "document, we attempt to lay down the framework and introduce some\n",
      "basic architectural principles for a quantum internet.  This is\n",
      "intended for general guidance and general interest.  It is also\n",
      "intended to provide a foundation for discussion between physicists\n",
      "and network specialists.  This document is a product of the Quantum\n",
      "Internet Research Group (QIRG).\n",
      "\n",
      "Status of This Memo\n",
      "\n",
      "This document is not an Internet Standards Track specification; it is\n",
      "published for informational purposes.\n",
      "\n",
      "This document is a product of the Internet Research Task Force\n",
      "(IRTF).  The IRTF publishes the results of Internet-related research\n",
      "and development activities.  These results might not be suitable for\n",
      "deployment.  This RFC represents the consensus of the Quantum\n",
      "Internet Research Group of the Internet Research Task Force (IRTF).\n",
      "Documents approved for publication by the IRSG are not candidates for\n",
      "any level of Internet Standard; see Section 2 of RFC 7841.\n",
      "\n",
      "Information about the current status of this document, any errata,\n",
      "and how to provide feedback on it may be obtained at\n",
      "https://www.rfc-editor.org/info/rfc9340.\n",
      "\n",
      "Copyright Notice\n",
      "\n",
      "Copyright (c) 2023 IETF Trust and the persons identified as the\n",
      "document authors.  All rights reserved.\n",
      "\n",
      "This document is subject to BCP 78 and the IETF Trust's Legal\n",
      "Provisions Relating to IETF Documents\n",
      "(https://trustee.ietf.org/license-info) in effect on the date of\n",
      "publication of this document.  Please review these documents\n",
      "carefully, as they describe your rights and restrictions with respect\n",
      "to this document.\n",
      "\n",
      "Table of Contents\n",
      "\n",
      "1.  Introduction\n",
      "2.  Quantum Information\n",
      "2.1.  Quantum State\n",
      "2.2.  Qubit\n",
      "2.3.  Multiple Qubits\n",
      "3.  Entanglement as the Fundamental Resource\n",
      "4.  Achieving Quantum Connectivity\n",
      "4.1.  Challenges\n",
      "4.1.1.  The Measurement Problem\n",
      "4.1.2.  No-Cloning Theorem\n",
      "4.1.3.  Fidelity\n",
      "4.1.4.  Inadequacy of Direct Transmission\n",
      "4.2.  Bell Pairs\n",
      "4.3.  Teleportation\n",
      "4.4.  The Life Cycle of Entanglement\n",
      "4.4.1.  Elementary Link Generation\n",
      "4.4.2.  Entanglement Swapping\n",
      "4.4.3.  Error Management\n",
      "4.4.4.  Delivery\n",
      "5.  Architecture of a Quantum Internet\n",
      "5.1.  Challenges\n",
      "5.2.  Classical Communication\n",
      "5.3.  Abstract Model of the Network\n",
      "5.3.1.  The Control Plane and the Data Plane\n",
      "5.3.2.  Elements of a Quantum Network\n",
      "5.3.3.  Putting It All Together\n",
      "5.4.  Physical Constraints\n",
      "5.4.1.  Memory Lifetimes\n",
      "5.4.2.  Rates\n",
      "5.4.3.  Communication Qubits\n",
      "5.4.4.  Homogeneity\n",
      "6.  Architectural Principles\n"
     ]
    }
   ],
   "source": [
    "# print the most relevant doc as a string\n",
    "\n",
    "print(docs[0])"
   ]
  },
  {
   "cell_type": "markdown",
   "metadata": {},
   "source": [
    "## Prepare some questions based on the RFC with Claude"
   ]
  },
  {
   "cell_type": "code",
   "execution_count": 16,
   "metadata": {},
   "outputs": [],
   "source": [
    "json_questions = [\n",
    "  {\n",
    "    \"question\": \"What is the key distinction between a classical network packet and a qubit?\",\n",
    "    \"answer\": \"In contrast, entanglement is a phenomenon in which two or more qubits exist in a physically distributed state. Operations on one of the qubits change the mutual state of the pair. Since the owner of a particular qubit cannot just read out its state, it must coordinate all its actions with the owner of the pair's other qubit.\"\n",
    "  },\n",
    "  {\n",
    "    \"question\": \"How is error correction different in quantum networks versus classical networks?\",\n",
    "    \"answer\": \"Therefore, we cannot use the same methods known from classical computing for the purposes of error detection and correction. Nevertheless, quantum error detection and correction schemes exist that take this problem into account, and how a network chooses to manage errors will have an impact on its architecture.\"\n",
    "  },\n",
    "  {\n",
    "    \"question\": \"What are the key differences between first, second, and third generation quantum networks?\",\n",
    "    \"answer\": \"Generations are defined by the directions of classical signalling required in their distributed protocols for loss tolerance and error tolerance. Classical signalling carries the classical bits, incurring round-trip delays... The three \\\"generations\\\" summarised: 1) First-generation quantum networks use heralding for loss tolerance and entanglement distillation for error tolerance. 2) Second-generation quantum networks improve upon the first generation with QEC codes for error tolerance (but not loss tolerance). 3) Third-generation quantum networks directly transmit QEC-encoded qubits to adjacent nodes.\"\n",
    "  },\n",
    "  {\n",
    "    \"question\": \"Why can't qubits be amplified like classical signals?\",\n",
    "    \"answer\": \"The no-cloning theorem states that it is impossible to create an identical copy of an arbitrary, unknown quantum state. Therefore, it is also impossible to use the same mechanisms that worked for classical networks for signal amplification, retransmission, and so on, as they all rely on the ability to copy the underlying data.\"\n",
    "  },\n",
    "  {\n",
    "    \"question\": \"What are the two meanings of \\\"qubit\\\"?\",\n",
    "    \"answer\": \"In the first meaning, \\\"qubit\\\" refers to a physical quantum system whose quantum state can be expressed as a superposition of two basis states, which we often label |0⟩ and |1⟩. Here, \\\"qubit\\\" refers to a physical implementation akin to what a flip-flop, switch, voltage, or current would be for a classical bit. In the second meaning, \\\"qubit\\\" refers to the abstract quantum state of a quantum system with such two basis states. In this case, the meaning of \\\"qubit\\\" is akin to the logical value of a bit, from classical computing, i.e., \\\"logical 0\\\" or \\\"logical 1\\\".\"\n",
    "  },\n",
    "  {\n",
    "    \"question\": \"How do quantum repeaters extend entanglement over long distances?\",\n",
    "    \"answer\": \"The solution is entanglement swapping. A Bell pair between any two nodes in the network can be constructed by combining the pairs generated along each individual link on a path between the two end-points. Each node along the path can consume the two pairs on the two links to which it is connected, in order to produce a new entangled pair between the two remote ends. This process is known as entanglement swapping.\"\n",
    "  },\n",
    "  {\n",
    "    \"question\": \"What classical communication is necessary in a quantum network?\",\n",
    "    \"answer\": \"Classical communication is a crucial building block of any quantum network. All nodes in a quantum network are assumed to have classical connectivity with each other (within typical administrative domain limits).\"\n",
    "  },\n",
    "  {\n",
    "    \"question\": \"What are the key elements of a quantum network architecture?\",\n",
    "    \"answer\": \"We have identified quantum repeaters as the core building block of a quantum network. However, a quantum repeater will have to do more than just entanglement swapping in a functional quantum network. Its key responsibilities will include the following: 1) Creating link-local entanglement between neighbouring nodes. 2) Extending entanglement from link-local pairs to long-range pairs through entanglement swapping. 3) Performing distillation to manage the fidelity of the produced pairs. 4) Participating in the management of the network (routing, etc.).\"\n",
    "  },\n",
    "  {\n",
    "    \"question\": \"What are the key differences between the control and data planes in quantum versus classical networks?\",\n",
    "    \"answer\": \"In quantum networks, control plane traffic (routing and signalling messages) is exchanged over a classical channel, whereas data plane traffic (the actual Bell pair qubits) is exchanged over a separate quantum channel.\"\n",
    "  },\n",
    "  {\n",
    "    \"question\": \"What are the key challenges in monitoring a quantum network?\",\n",
    "    \"answer\": \"The fundamental unit of quantum information, the qubit, cannot be actively monitored, as any readout irreversibly destroys its contents. One of the implications of this fact is that measuring an individual pair's fidelity is impossible. Fidelity is meaningful only as a statistical quantity that requires constant monitoring of generated Bell pairs, achieved by sacrificing some Bell pairs for use in tomography or other methods.\"\n",
    "  }\n",
    "]"
   ]
  },
  {
   "cell_type": "markdown",
   "metadata": {},
   "source": [
    "## Work on chunking strategies"
   ]
  },
  {
   "cell_type": "code",
   "execution_count": 25,
   "metadata": {},
   "outputs": [],
   "source": [
    "def query(question):\n",
    "    results = collection.query(\n",
    "        query_texts=[question],\n",
    "        n_results=10\n",
    "    )\n",
    "\n",
    "    return(results[\"distances\"][0] , docs[int(results[\"ids\"][0][0])])"
   ]
  },
  {
   "cell_type": "code",
   "execution_count": 26,
   "metadata": {},
   "outputs": [
    {
     "name": "stdout",
     "output_type": "stream",
     "text": [
      "[0.6471181511878967, 0.6924597024917603, 0.7476683855056763, 0.8544892072677612, 0.8706136345863342, 0.8881561756134033, 0.9051676988601685, 0.9195541143417358, 0.9431092739105225, 0.9590636491775513] it is the transmission of qubits that draws the line between a\n",
      "genuine quantum network and a collection of quantum computers\n",
      "connected over a classical network.\n",
      "\n",
      "A quantum network is defined as a collection of nodes that is able to\n",
      "exchange qubits and distribute entangled states amongst themselves.\n",
      "A quantum node that is able only to communicate classically with\n",
      "another quantum node is not a member of a quantum network.\n",
      "\n",
      "Services and applications that are more complex can be built on top\n",
      "of entangled states distributed by the network; for example, see\n",
      "[ZOO].\n",
      "\n",
      "4.  Achieving Quantum Connectivity\n",
      "\n",
      "This section explains the meaning of quantum connectivity and the\n",
      "necessary physical processes at an abstract level.\n",
      "\n",
      "4.1.  Challenges\n",
      "\n",
      "A quantum network cannot be built by simply extrapolating all the\n",
      "classical models to their quantum analogues.  Sending qubits over a\n",
      "wire like we send classical bits is simply not as easy to do.  There\n",
      "are several technological as well as fundamental challenges that make\n",
      "classical approaches unsuitable in a quantum context.\n",
      "\n",
      "4.1.1.  The Measurement Problem\n",
      "\n",
      "In classical computers and networks, we can read out the bits stored\n",
      "in memory at any time.  This is helpful for a variety of purposes\n",
      "such as copying, error detection and correction, and so on.  This is\n",
      "not possible with qubits.\n",
      "\n",
      "A measurement of a qubit's state will destroy its superposition and\n",
      "with it any entanglement it may have been part of.  Once a qubit is\n",
      "being processed, it cannot be read out until a suitable point in the\n",
      "computation, determined by the protocol handling the qubit, has been\n",
      "reached.  Therefore, we cannot use the same methods known from\n",
      "classical computing for the purposes of error detection and\n",
      "correction.  Nevertheless, quantum error detection and correction\n",
      "schemes exist that take this problem into account, and how a network\n",
      "chooses to manage errors will have an impact on its architecture.\n",
      "\n",
      "4.1.2.  No-Cloning Theorem\n",
      "\n",
      "Since directly reading the state of a qubit is not possible, one\n",
      "could ask if we can simply copy a qubit without looking at it.\n",
      "Unfortunately, this is fundamentally not possible in quantum\n",
      "mechanics [Park70] [Wootters82].\n",
      "\n",
      "The no-cloning theorem states that it is impossible to create an\n",
      "identical copy of an arbitrary, unknown quantum state.  Therefore, it\n",
      "is also impossible to use the same mechanisms that worked for\n",
      "classical networks for signal amplification, retransmission, and so\n",
      "on, as they all rely on the ability to copy the underlying data.\n",
      "Since any physical channel will always be lossy, connecting nodes\n",
      "within a quantum network is a challenging endeavour, and its\n",
      "architecture must at its core address this very issue.\n",
      "\n",
      "4.1.3.  Fidelity\n",
      "\n",
      "In general, it is expected that a classical packet arrives at its\n",
      "destination without any errors introduced by hardware noise along the\n",
      "way.  This is verified at various levels through a variety of error\n",
      "detection and correction mechanisms.  Since we cannot read or copy a\n",
      "quantum state, error detection and correction are more involved.\n",
      "\n",
      "To describe the quality of a quantum state, a physical quantity\n",
      "called fidelity is used [NielsenChuang].  Fidelity takes a value\n",
      "between 0 and 1 -- higher is better, and less than 0.5 means the\n",
      "state is unusable.  It measures how close a quantum state is to the\n",
      "state we have tried to create.  It expresses the probability that the\n",
      "state will behave exactly the same as our desired state.  Fidelity is\n",
      "an important property of a quantum system that allows us to quantify\n",
      "how much a particular state has been affected by noise from various\n",
      "sources (gate errors, channel losses, environment noise).\n",
      "\n",
      "Interestingly, quantum applications do not need perfect fidelity to\n",
      "be able to execute -- as long as the fidelity is above some\n",
      "application-specific threshold, they will simply operate at lower\n",
      "rates.  Therefore, rather than trying to ensure that we always\n",
      "deliver perfect states (a technologically challenging task),\n",
      "applications will specify a minimum threshold for the fidelity, and\n",
      "the network will try its best to deliver it.  A higher fidelity can\n",
      "be achieved by either having hardware produce states of better\n",
      "fidelity (sometimes one can sacrifice rate for higher fidelity) or\n",
      "employing quantum error detection and correction mechanisms (see\n",
      "[Mural16] and Chapter 11 of [VanMeterBook]).\n",
      "\n",
      "4.1.4.  Inadequacy of Direct Transmission\n",
      "\n",
      "Conceptually, the most straightforward way to distribute an entangled\n",
      "state is to simply transmit one of the qubits directly to the other\n",
      "end across a series of nodes while performing sufficient forward\n",
      "Quantum Error Correction (QEC) (Section 4.4.3.2) to bring losses down\n",
      "to an acceptable level.  Despite the no-cloning theorem and the\n",
      "inability to directly measure a quantum state, error-correcting\n",
      "mechanisms for quantum communication exist [Jiang09] [Fowler10]\n",
      "[Devitt13] [Mural16].  However, QEC makes very high demands on both\n",
      "resources (physical qubits needed) and their initial fidelity.\n"
     ]
    }
   ],
   "source": [
    "distance, answer = query(\"What are the key challenges in monitoring a quantum network?\")\n",
    "\n",
    "print( distance, answer)"
   ]
  },
  {
   "cell_type": "markdown",
   "metadata": {},
   "source": [
    "## First observation\n",
    "\n",
    "The chunk retrieve by default chroma setup is not the right one.\n",
    "\n",
    "Correct part of the RFC is :\n",
    "\n",
    "```\n",
    "   5.  Make them easy to monitor.\n",
    "\n",
    "       In order to manage, evaluate the performance of, or debug a\n",
    "       network, it is necessary to have the ability to monitor the\n",
    "       network while ensuring that there will be mechanisms in place to\n",
    "       protect the confidentiality and integrity of the devices\n",
    "       connected to it.  Quantum networks bring new challenges in this\n",
    "       area, so it should be a goal of a quantum network architecture to\n",
    "       make this task easy.\n",
    "\n",
    "       The fundamental unit of quantum information, the qubit, cannot be\n",
    "       actively monitored, as any readout irreversibly destroys its\n",
    "       contents.  One of the implications of this fact is that measuring\n",
    "       an individual pair's fidelity is impossible.  Fidelity is\n",
    "       meaningful only as a statistical quantity that requires constant\n",
    "       monitoring of generated Bell pairs, achieved by sacrificing some\n",
    "       Bell pairs for use in tomography or other methods.\n",
    "\n",
    "       Furthermore, given one end of an entangled pair, it is impossible\n",
    "       to tell where the other qubit is without any additional classical\n",
    "       metadata.  It is impossible to extract this information from the\n",
    "       qubits themselves.  This implies that tracking entangled pairs\n",
    "       necessitates some exchange of classical information.  This\n",
    "       information might include (i) a reference to the entangled pair\n",
    "       that allows distributed applications to coordinate actions on\n",
    "       qubits of the same pair and (ii) the two bits from each\n",
    "       entanglement swap necessary to identify the final state of the\n",
    "       Bell pair (Section 4.4.2).\n",
    "```\n",
    "\n",
    "Retrieved one:\n",
    "```\n",
    "[...]\n",
    "it is the transmission of qubits that draws the line between a\n",
    "genuine quantum network and a collection of quantum computers\n",
    "connected over a classical network.\n",
    "\n",
    "A quantum network is defined as a collection of nodes that is able to\n",
    "exchange qubits and distribute entangled states amongst themselves.\n",
    "A quantum node that is able only to communicate classically with\n",
    "another quantum node is not a member of a quantum network.\n",
    "\n",
    "Services and applications that are more complex can be built on top\n",
    "of entangled states distributed by the network; for example, see\n",
    "[ZOO].\n",
    "\n",
    "4.  Achieving Quantum Connectivity\n",
    "\n",
    "This section explains the meaning of quantum connectivity and the\n",
    "necessary physical processes at an abstract level.\n",
    "\n",
    "4.1.  Challenges\n",
    "\n",
    "A quantum network cannot be built by simply extrapolating all the\n",
    "classical models to their quantum analogues.  Sending qubits over a\n",
    "wire like we send classical bits is simply not as easy to do.  There\n",
    "are several technological as well as fundamental challenges that make\n",
    "classical approaches unsuitable in a quantum context.\n",
    "\n",
    "[...]\n",
    "\n",
    "4.1.4.  Inadequacy of Direct Transmission\n",
    "\n",
    "Conceptually, the most straightforward way to distribute an entangled\n",
    "state is to simply transmit one of the qubits directly to the other\n",
    "end across a series of nodes while performing sufficient forward\n",
    "Quantum Error Correction (QEC) (Section 4.4.3.2) to bring losses down\n",
    "to an acceptable level.  Despite the no-cloning theorem and the\n",
    "inability to directly measure a quantum state, error-correcting\n",
    "mechanisms for quantum communication exist [Jiang09] [Fowler10]\n",
    "[Devitt13] [Mural16].  However, QEC makes very high demands on both\n",
    "resources (physical qubits needed) and their initial fidelity.\n",
    "\n",
    "[...]\n",
    "```"
   ]
  },
  {
   "cell_type": "markdown",
   "metadata": {},
   "source": [
    "## Thoughts\n",
    "\n",
    "relative distance is indication of relevance?\n",
    "doesn't seem normalized\n",
    "\n"
   ]
  },
  {
   "cell_type": "code",
   "execution_count": null,
   "metadata": {},
   "outputs": [],
   "source": []
  }
 ],
 "metadata": {
  "kernelspec": {
   "display_name": "base",
   "language": "python",
   "name": "python3"
  },
  "language_info": {
   "codemirror_mode": {
    "name": "ipython",
    "version": 3
   },
   "file_extension": ".py",
   "mimetype": "text/x-python",
   "name": "python",
   "nbconvert_exporter": "python",
   "pygments_lexer": "ipython3",
   "version": "3.10.12"
  },
  "orig_nbformat": 4
 },
 "nbformat": 4,
 "nbformat_minor": 2
}
