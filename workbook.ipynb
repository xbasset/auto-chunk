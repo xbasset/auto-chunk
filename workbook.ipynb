{
 "cells": [
  {
   "cell_type": "code",
   "execution_count": 1,
   "metadata": {},
   "outputs": [],
   "source": [
    "import openai\n",
    "\n",
    "\n",
    "import os\n",
    "\n",
    "openai.api_key = os.getenv(\"OPENAI_API_KEY\")\n",
    "\n"
   ]
  },
  {
   "cell_type": "markdown",
   "metadata": {},
   "source": [
    "## Get some RFC data\n",
    "\n",
    "Took one from 2023 that's not included in the training data"
   ]
  },
  {
   "cell_type": "code",
   "execution_count": 2,
   "metadata": {},
   "outputs": [
    {
     "name": "stdout",
     "output_type": "stream",
     "text": [
      "Number of words in text file : 14664\n"
     ]
    }
   ],
   "source": [
    "# read the RFC file that's not in the\n",
    "\n",
    "rfc_file = 'ietf.org_rfc_rfc9340.txt'\n",
    "\n",
    "with open(rfc_file, 'r') as file:\n",
    "    data = file.read().replace('\\n', '')\n",
    "\n",
    "# count words\n",
    "\n",
    "words = data.split()\n",
    "print('Number of words in text file :', len(words))\n",
    "\n"
   ]
  },
  {
   "cell_type": "code",
   "execution_count": 25,
   "metadata": {},
   "outputs": [
    {
     "name": "stdout",
     "output_type": "stream",
     "text": [
      "\n",
      "\n",
      "\n",
      "\n",
      "\n",
      "\n",
      "Network Working Group                                     T. Berners-Lee\n",
      "Request for Comments:\n"
     ]
    }
   ],
   "source": [
    "# Create an array of document with each element containing 100 lines\n",
    "\n",
    "docs = []\n",
    "\n",
    "with open(rfc_file, 'r') as file:\n",
    "    doc = []\n",
    "    for line in file:\n",
    "        doc.append(line.strip())\n",
    "        if len(doc) == 100:\n",
    "            docs.append(doc)\n",
    "            doc = []\n",
    "    if len(doc) > 0:\n",
    "        docs.append(doc)\n",
    "\n",
    "len(docs)\n",
    "\n",
    "# for each doc, join the lines to create a single string adding a \\n between each line\n",
    "\n",
    "for i in range(len(docs)):\n",
    "    docs[i] = '\\n'.join(docs[i])\n",
    "    \n",
    "\n",
    "# print the first lines of the first doc\n",
    "\n",
    "print(docs[0][:100])"
   ]
  },
  {
   "cell_type": "code",
   "execution_count": 26,
   "metadata": {},
   "outputs": [
    {
     "name": "stdout",
     "output_type": "stream",
     "text": [
      "[{'source': 0}, {'source': 1}, {'source': 2}, {'source': 3}, {'source': 4}, {'source': 5}, {'source': 6}, {'source': 7}, {'source': 8}, {'source': 9}]\n"
     ]
    }
   ],
   "source": [
    "# create a metadata in the form of a dictionary: {\"source\": \"<docs_id>\"}\n",
    "\n",
    "metadata = []\n",
    "for i in range(len(docs)):\n",
    "    metadata.append({\"source\": i})\n",
    "\n",
    "print(metadata[0:10])"
   ]
  },
  {
   "cell_type": "code",
   "execution_count": 27,
   "metadata": {},
   "outputs": [
    {
     "name": "stdout",
     "output_type": "stream",
     "text": [
      "['0', '1', '2', '3', '4', '5', '6', '7', '8', '9']\n"
     ]
    }
   ],
   "source": [
    "# create a list of each ids as an array\n",
    "\n",
    "ids = []\n",
    "for i in range(len(docs)):\n",
    "    ids.append(str(i))\n",
    "\n",
    "# print the 10 first ids\n",
    "print(ids[:10])"
   ]
  },
  {
   "cell_type": "markdown",
   "metadata": {},
   "source": [
    "## Basic Storing of RFCs\n",
    "\n",
    "Persistent ChromaDB"
   ]
  },
  {
   "cell_type": "code",
   "execution_count": 44,
   "metadata": {},
   "outputs": [],
   "source": [
    "import chromadb\n",
    "from chromadb.config import Settings\n",
    "\n",
    "client = chromadb.Client(Settings(\n",
    "    chroma_db_impl=\"duckdb+parquet\",\n",
    "    persist_directory=\"./chromadb/\"\n",
    "))"
   ]
  },
  {
   "cell_type": "code",
   "execution_count": 45,
   "metadata": {},
   "outputs": [],
   "source": [
    "collection = client.create_collection(name=\"basic_rfc\")"
   ]
  },
  {
   "cell_type": "code",
   "execution_count": 46,
   "metadata": {},
   "outputs": [],
   "source": [
    "collection.add(\n",
    "    documents=docs,\n",
    "    metadatas=metadata,\n",
    "    ids=ids\n",
    ")"
   ]
  },
  {
   "cell_type": "code",
   "execution_count": 37,
   "metadata": {},
   "outputs": [
    {
     "name": "stdout",
     "output_type": "stream",
     "text": [
      "[[0.5024073123931885,\n",
      "  0.6518412232398987,\n",
      "  0.6657850742340088,\n",
      "  0.78008633852005,\n",
      "  0.8532109260559082,\n",
      "  1.0419760942459106,\n",
      "  1.0496753454208374,\n",
      "  1.0584864616394043,\n",
      "  1.0728325843811035,\n",
      "  1.1651463508605957]]\n",
      "[['2', '0', '4', '8', '30', '3', '28', '7', '29', '13']]\n"
     ]
    }
   ],
   "source": [
    "from pprint import pprint\n",
    "\n",
    "results = collection.query(\n",
    "    query_texts=[\"What is HTTP?\"],\n",
    "    n_results=10\n",
    ")\n",
    "\n",
    "pprint(results[\"distances\"])\n",
    "pprint(results[\"ids\"])"
   ]
  },
  {
   "cell_type": "code",
   "execution_count": 47,
   "metadata": {},
   "outputs": [
    {
     "name": "stdout",
     "output_type": "stream",
     "text": [
      "('HTTP is also used as a generic protocol for communication between\\n'\n",
      " 'user agents and proxies/gateways to other Internet protocols, such as\\n'\n",
      " 'SMTP [12], NNTP [11], FTP [14], Gopher [1], and WAIS [8], allowing\\n'\n",
      " 'basic hypermedia access to resources available from diverse\\n'\n",
      " 'applications and simplifying the implementation of user agents.\\n'\n",
      " '\\n'\n",
      " '1.2  Terminology\\n'\n",
      " '\\n'\n",
      " 'This specification uses a number of terms to refer to the roles\\n'\n",
      " 'played by participants in, and objects of, the HTTP communication.\\n'\n",
      " '\\n'\n",
      " 'connection\\n'\n",
      " '\\n'\n",
      " 'A transport layer virtual circuit established between two\\n'\n",
      " 'application programs for the purpose of communication.\\n'\n",
      " '\\n'\n",
      " 'message\\n'\n",
      " '\\n'\n",
      " 'The basic unit of HTTP communication, consisting of a structured\\n'\n",
      " 'sequence of octets matching the syntax defined in Section 4 and\\n'\n",
      " 'transmitted via the connection.\\n'\n",
      " '\\n'\n",
      " '\\n'\n",
      " '\\n'\n",
      " '\\n'\n",
      " 'Berners-Lee, et al           Informational                      [Page 4]\\n'\n",
      " '\\n'\n",
      " 'RFC 1945                        HTTP/1.0                        May 1996\\n'\n",
      " '\\n'\n",
      " '\\n'\n",
      " 'request\\n'\n",
      " '\\n'\n",
      " 'An HTTP request message (as defined in Section 5).\\n'\n",
      " '\\n'\n",
      " 'response\\n'\n",
      " '\\n'\n",
      " 'An HTTP response message (as defined in Section 6).\\n'\n",
      " '\\n'\n",
      " 'resource\\n'\n",
      " '\\n'\n",
      " 'A network data object or service which can be identified by a\\n'\n",
      " 'URI (Section 3.2).\\n'\n",
      " '\\n'\n",
      " 'entity\\n'\n",
      " '\\n'\n",
      " 'A particular representation or rendition of a data resource, or\\n'\n",
      " 'reply from a service resource, that may be enclosed within a\\n'\n",
      " 'request or response message. An entity consists of\\n'\n",
      " 'metainformation in the form of entity headers and content in the\\n'\n",
      " 'form of an entity body.\\n'\n",
      " '\\n'\n",
      " 'client\\n'\n",
      " '\\n'\n",
      " 'An application program that establishes connections for the\\n'\n",
      " 'purpose of sending requests.\\n'\n",
      " '\\n'\n",
      " 'user agent\\n'\n",
      " '\\n'\n",
      " 'The client which initiates a request. These are often browsers,\\n'\n",
      " 'editors, spiders (web-traversing robots), or other end user\\n'\n",
      " 'tools.\\n'\n",
      " '\\n'\n",
      " 'server\\n'\n",
      " '\\n'\n",
      " 'An application program that accepts connections in order to\\n'\n",
      " 'service requests by sending back responses.\\n'\n",
      " '\\n'\n",
      " 'origin server\\n'\n",
      " '\\n'\n",
      " 'The server on which a given resource resides or is to be created.\\n'\n",
      " '\\n'\n",
      " 'proxy\\n'\n",
      " '\\n'\n",
      " 'An intermediary program which acts as both a server and a client\\n'\n",
      " 'for the purpose of making requests on behalf of other clients.\\n'\n",
      " 'Requests are serviced internally or by passing them, with\\n'\n",
      " 'possible translation, on to other servers. A proxy must\\n'\n",
      " 'interpret and, if necessary, rewrite a request message before\\n'\n",
      " '\\n'\n",
      " '\\n'\n",
      " '\\n'\n",
      " 'Berners-Lee, et al           Informational                      [Page 5]\\n'\n",
      " '\\n'\n",
      " 'RFC 1945                        HTTP/1.0                        May 1996\\n'\n",
      " '\\n'\n",
      " '\\n'\n",
      " 'forwarding it. Proxies are often used as client-side portals\\n'\n",
      " 'through network firewalls and as helper applications for\\n'\n",
      " 'handling requests via protocols not implemented by the user\\n'\n",
      " 'agent.\\n'\n",
      " '\\n'\n",
      " 'gateway\\n'\n",
      " '\\n'\n",
      " 'A server which acts as an intermediary for some other server.\\n'\n",
      " 'Unlike a proxy, a gateway receives requests as if it were the\\n'\n",
      " 'origin server for the requested resource; the requesting client\\n'\n",
      " 'may not be aware that it is communicating with a gateway.\\n'\n",
      " 'Gateways are often used as server-side portals through network\\n'\n",
      " 'firewalls and as protocol translators for access to resources\\n'\n",
      " 'stored on non-HTTP systems.')\n"
     ]
    }
   ],
   "source": [
    "pprint(docs[2])"
   ]
  },
  {
   "cell_type": "markdown",
   "metadata": {},
   "source": [
    "## Thoughts\n",
    "\n",
    "relative distance is indication of relevance?\n",
    "doesn't seem normalized\n",
    "\n"
   ]
  },
  {
   "cell_type": "code",
   "execution_count": null,
   "metadata": {},
   "outputs": [],
   "source": []
  }
 ],
 "metadata": {
  "kernelspec": {
   "display_name": "base",
   "language": "python",
   "name": "python3"
  },
  "language_info": {
   "codemirror_mode": {
    "name": "ipython",
    "version": 3
   },
   "file_extension": ".py",
   "mimetype": "text/x-python",
   "name": "python",
   "nbconvert_exporter": "python",
   "pygments_lexer": "ipython3",
   "version": "3.10.12"
  },
  "orig_nbformat": 4
 },
 "nbformat": 4,
 "nbformat_minor": 2
}
